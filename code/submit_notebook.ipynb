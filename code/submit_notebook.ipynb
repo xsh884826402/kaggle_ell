{
  "cells": [],
  "metadata": {
    "language_info": {
      "codemirror_mode": {
        "name": "ipython",
        "version": 2
      },
      "file_extension": ".py",
      "mimetype": "text/x-python",
      "name": "python",
      "nbconvert_exporter": "python",
      "pygments_lexer": "ipython2",
      "version": "2.7.6"
    },
    "kernelspec": {
      "name": "python3",
      "language": "python",
      "display_name": "Python 3"
    },
    "stem_cell": {
      "cell_type": "raw",
      "source": "# \u003d\u003d\u003d\u003d\u003d\u003d\u003d\u003d\u003d\u003d\u003d\u003d\u003d\u003d\u003d\u003d\u003d\u003d\u003d\u003d\u003d\u003d\u003d\u003d\u003d\u003d\u003d\u003d\u003d\u003d\u003d\u003d\u003d\u003d\u003d\u003d\u003d\u003d\u003d\u003d\u003d\u003d\u003d\u003d\u003d\u003d\u003d\u003d\u003d\u003d\u003d\u003d\n# CFG\n# \u003d\u003d\u003d\u003d\u003d\u003d\u003d\u003d\u003d\u003d\u003d\u003d\u003d\u003d\u003d\u003d\u003d\u003d\u003d\u003d\u003d\u003d\u003d\u003d\u003d\u003d\u003d\u003d\u003d\u003d\u003d\u003d\u003d\u003d\u003d\u003d\u003d\u003d\u003d\u003d\u003d\u003d\u003d\u003d\u003d\u003d\u003d\u003d\u003d\u003d\u003d\u003d\nclass CFG:\n    num_workers\u003d4\n    path\u003d\"../input/fb3-deberta-v3-base-baseline-train/\"\n    config_path\u003dpath+\u0027config.pth\u0027\n    model\u003d\"microsoft/deberta-v3-base\"\n    gradient_checkpointing\u003dFalse\n    batch_size\u003d24\n    target_cols\u003d[\u0027cohesion\u0027, \u0027syntax\u0027, \u0027vocabulary\u0027, \u0027phraseology\u0027, \u0027grammar\u0027, \u0027conventions\u0027]\n    seed\u003d42\n    n_fold\u003d4\n    trn_fold\u003d[0, 1, 2, 3]",
      "metadata": {
        "pycharm": {
          "metadata": false
        }
      }
    }
  },
  "nbformat": 4,
  "nbformat_minor": 0
}